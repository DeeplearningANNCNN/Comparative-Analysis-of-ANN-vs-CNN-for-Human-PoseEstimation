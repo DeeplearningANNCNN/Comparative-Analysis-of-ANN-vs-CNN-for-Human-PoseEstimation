{
 "cells": [
  {
   "cell_type": "code",
   "execution_count": 36,
   "metadata": {},
   "outputs": [],
   "source": [
    "import os\n",
    "import pandas as pd\n",
    "import numpy as np\n",
    "import seaborn as sns\n",
    "import matplotlib.pyplot as plt\n",
    "from matplotlib.image import imread\n",
    "# Technically not necessary in newest versions of jupyter\n",
    "%matplotlib inline\n",
    "\n",
    "import keras\n",
    "import keras.backend as K\n",
    "from keras.models import Model\n",
    "from keras.layers import Input, Dense, Conv2D, Conv3D, DepthwiseConv2D, SeparableConv2D, Conv3DTranspose\n",
    "from keras.layers import Flatten, MaxPool2D, AvgPool2D, GlobalAvgPool2D, UpSampling2D, BatchNormalization\n",
    "from keras.layers import Concatenate, Add, Dropout, ReLU, Lambda, Activation, LeakyReLU, PReLU\n",
    "\n",
    "from IPython.display import SVG\n",
    "from keras.utils.vis_utils import model_to_dot\n",
    "\n",
    "from time import time\n",
    "import numpy as np"
   ]
  },
  {
   "cell_type": "code",
   "execution_count": 37,
   "metadata": {},
   "outputs": [],
   "source": [
    "my_data_dir = 'D:\\\\Pycharm\\\\Anomalous_detection_CNN\\\\data_four_poses'"
   ]
  },
  {
   "cell_type": "code",
   "execution_count": 38,
   "metadata": {},
   "outputs": [
    {
     "data": {
      "text/plain": [
       "['test', 'train']"
      ]
     },
     "execution_count": 38,
     "metadata": {},
     "output_type": "execute_result"
    }
   ],
   "source": [
    "os.listdir(my_data_dir) "
   ]
  },
  {
   "cell_type": "code",
   "execution_count": 39,
   "metadata": {},
   "outputs": [],
   "source": [
    "test_path = my_data_dir+'\\\\test\\\\'\n",
    "train_path = my_data_dir+'\\\\train\\\\'"
   ]
  },
  {
   "cell_type": "code",
   "execution_count": 40,
   "metadata": {},
   "outputs": [
    {
     "data": {
      "text/plain": [
       "['climb', 'crawl', 'normal', 'squat']"
      ]
     },
     "execution_count": 40,
     "metadata": {},
     "output_type": "execute_result"
    }
   ],
   "source": [
    "os.listdir(test_path)"
   ]
  },
  {
   "cell_type": "code",
   "execution_count": 41,
   "metadata": {},
   "outputs": [
    {
     "data": {
      "text/plain": [
       "['climb', 'crawl', 'normal', 'squat']"
      ]
     },
     "execution_count": 41,
     "metadata": {},
     "output_type": "execute_result"
    }
   ],
   "source": [
    "os.listdir(train_path)"
   ]
  },
  {
   "cell_type": "code",
   "execution_count": 42,
   "metadata": {},
   "outputs": [
    {
     "data": {
      "text/plain": [
       "'Image0.png'"
      ]
     },
     "execution_count": 42,
     "metadata": {},
     "output_type": "execute_result"
    }
   ],
   "source": [
    "os.listdir(train_path+'\\\\normal')[0]"
   ]
  },
  {
   "cell_type": "code",
   "execution_count": 43,
   "metadata": {},
   "outputs": [],
   "source": [
    "stick_figure = train_path+'\\\\normal'+'\\\\Image0.png'"
   ]
  },
  {
   "cell_type": "code",
   "execution_count": 44,
   "metadata": {},
   "outputs": [],
   "source": [
    "stick_fig_img = imread(stick_figure)"
   ]
  },
  {
   "cell_type": "code",
   "execution_count": 45,
   "metadata": {},
   "outputs": [
    {
     "data": {
      "text/plain": [
       "<matplotlib.image.AxesImage at 0x1ecc9bf5208>"
      ]
     },
     "execution_count": 45,
     "metadata": {},
     "output_type": "execute_result"
    },
    {
     "data": {
      "image/png": "[encoded data removed]",
      "text/plain": [
       "<Figure size 432x288 with 1 Axes>"
      ]
     },
     "metadata": {
      "needs_background": "light"
     },
     "output_type": "display_data"
    }
   ],
   "source": [
    "plt.imshow(stick_fig_img)"
   ]
  },
  {
   "cell_type": "code",
   "execution_count": 46,
   "metadata": {},
   "outputs": [
    {
     "data": {
      "text/plain": [
       "(392, 121, 3)"
      ]
     },
     "execution_count": 46,
     "metadata": {},
     "output_type": "execute_result"
    }
   ],
   "source": [
    "stick_fig_img.shape"
   ]
  },
  {
   "cell_type": "code",
   "execution_count": 47,
   "metadata": {},
   "outputs": [
    {
     "data": {
      "text/plain": [
       "1300"
      ]
     },
     "execution_count": 47,
     "metadata": {},
     "output_type": "execute_result"
    }
   ],
   "source": [
    "len(os.listdir(train_path+'\\\\normal'))"
   ]
  },
  {
   "cell_type": "code",
   "execution_count": 48,
   "metadata": {},
   "outputs": [],
   "source": [
    "dim1 = []\n",
    "dim2 = []\n",
    "for image_filename in os.listdir(test_path+'\\\\normal'):\n",
    "    \n",
    "    img = imread(test_path+'\\\\normal'+'\\\\'+image_filename)\n",
    "    d1,d2,colors = img.shape\n",
    "    dim1.append(d1)\n",
    "    dim2.append(d2)"
   ]
  },
  {
   "cell_type": "code",
   "execution_count": 49,
   "metadata": {},
   "outputs": [
    {
     "data": {
      "text/plain": [
       "<seaborn.axisgrid.JointGrid at 0x1ecc9c6b548>"
      ]
     },
     "execution_count": 49,
     "metadata": {},
     "output_type": "execute_result"
    },
    {
     "data": {
      "image/png": "[encoded data removed]",
      "text/plain": [
       "<Figure size 432x432 with 3 Axes>"
      ]
     },
     "metadata": {
      "needs_background": "light"
     },
     "output_type": "display_data"
    }
   ],
   "source": [
    "sns.jointplot(dim1,dim2)"
   ]
  },
  {
   "cell_type": "code",
   "execution_count": 50,
   "metadata": {},
   "outputs": [
    {
     "data": {
      "text/plain": [
       "220.694"
      ]
     },
     "execution_count": 50,
     "metadata": {},
     "output_type": "execute_result"
    }
   ],
   "source": [
    "np.mean(dim1)"
   ]
  },
  {
   "cell_type": "code",
   "execution_count": 51,
   "metadata": {},
   "outputs": [
    {
     "data": {
      "text/plain": [
       "81.036"
      ]
     },
     "execution_count": 51,
     "metadata": {},
     "output_type": "execute_result"
    }
   ],
   "source": [
    "np.mean(dim2)"
   ]
  },
  {
   "cell_type": "code",
   "execution_count": 52,
   "metadata": {},
   "outputs": [],
   "source": [
    "image_shape = (225,85,3)"
   ]
  },
  {
   "cell_type": "code",
   "execution_count": 53,
   "metadata": {},
   "outputs": [],
   "source": [
    "from tensorflow.keras.preprocessing.image import ImageDataGenerator"
   ]
  },
  {
   "cell_type": "code",
   "execution_count": 54,
   "metadata": {},
   "outputs": [],
   "source": [
    "image_gen = ImageDataGenerator(rotation_range=0, # rotate the image 20 degrees\n",
    "                               width_shift_range=0.0, # Shift the pic width by a max of 5%\n",
    "                               height_shift_range=0.0, # Shift the pic height by a max of 5%\n",
    "                               rescale=1/255, # Rescale the image by normalzing it.\n",
    "                               shear_range=0.0, # Shear means cutting away part of the image (max 10%)\n",
    "                               zoom_range=0.0, # Zoom in by 10% max\n",
    "                               horizontal_flip=False, # Allo horizontal flipping\n",
    "                               fill_mode='nearest' # Fill in missing pixels with the nearest filled value\n",
    "                              )"
   ]
  },
  {
   "cell_type": "code",
   "execution_count": 55,
   "metadata": {},
   "outputs": [
    {
     "data": {
      "text/plain": [
       "<matplotlib.image.AxesImage at 0x1ecc9d1a988>"
      ]
     },
     "execution_count": 55,
     "metadata": {},
     "output_type": "execute_result"
    },
    {
     "data": {
      "image/png": "[encoded data removed]",
      "text/plain": [
       "<Figure size 432x288 with 1 Axes>"
      ]
     },
     "metadata": {
      "needs_background": "light"
     },
     "output_type": "display_data"
    }
   ],
   "source": [
    "plt.imshow(stick_fig_img)"
   ]
  },
  {
   "cell_type": "code",
   "execution_count": 56,
   "metadata": {},
   "outputs": [
    {
     "data": {
      "text/plain": [
       "<matplotlib.image.AxesImage at 0x1ecc9dfe688>"
      ]
     },
     "execution_count": 56,
     "metadata": {},
     "output_type": "execute_result"
    },
    {
     "data": {
      "image/png": "[encoded data removed]",
      "text/plain": [
       "<Figure size 432x288 with 1 Axes>"
      ]
     },
     "metadata": {
      "needs_background": "light"
     },
     "output_type": "display_data"
    }
   ],
   "source": [
    "plt.imshow(image_gen.random_transform(stick_fig_img))"
   ]
  },
  {
   "cell_type": "code",
   "execution_count": 57,
   "metadata": {},
   "outputs": [
    {
     "data": {
      "text/plain": [
       "<matplotlib.image.AxesImage at 0x1ecc9e8c848>"
      ]
     },
     "execution_count": 57,
     "metadata": {},
     "output_type": "execute_result"
    },
    {
     "data": {
      "image/png": "[encoded data removed]",
      "text/plain": [
       "<Figure size 432x288 with 1 Axes>"
      ]
     },
     "metadata": {
      "needs_background": "light"
     },
     "output_type": "display_data"
    }
   ],
   "source": [
    "plt.imshow(image_gen.random_transform(stick_fig_img))"
   ]
  },
  {
   "cell_type": "code",
   "execution_count": 58,
   "metadata": {},
   "outputs": [
    {
     "name": "stdout",
     "output_type": "stream",
     "text": [
      "Found 5200 images belonging to 4 classes.\n"
     ]
    },
    {
     "data": {
      "text/plain": [
       "<keras_preprocessing.image.directory_iterator.DirectoryIterator at 0x1ecc9eca9c8>"
      ]
     },
     "execution_count": 58,
     "metadata": {},
     "output_type": "execute_result"
    }
   ],
   "source": [
    "image_gen.flow_from_directory(train_path)"
   ]
  },
  {
   "cell_type": "code",
   "execution_count": 59,
   "metadata": {},
   "outputs": [
    {
     "name": "stdout",
     "output_type": "stream",
     "text": [
      "Found 2000 images belonging to 4 classes.\n"
     ]
    },
    {
     "data": {
      "text/plain": [
       "<keras_preprocessing.image.directory_iterator.DirectoryIterator at 0x1ecc9ecfb88>"
      ]
     },
     "execution_count": 59,
     "metadata": {},
     "output_type": "execute_result"
    }
   ],
   "source": [
    "image_gen.flow_from_directory(test_path)"
   ]
  },
  {
   "cell_type": "code",
   "execution_count": 60,
   "metadata": {},
   "outputs": [],
   "source": [
    "batch_size = 16"
   ]
  },
  {
   "cell_type": "code",
   "execution_count": 61,
   "metadata": {},
   "outputs": [
    {
     "name": "stdout",
     "output_type": "stream",
     "text": [
      "Found 5200 images belonging to 4 classes.\n"
     ]
    }
   ],
   "source": [
    "train_image_gen = image_gen.flow_from_directory(train_path,\n",
    "                                               target_size=image_shape[:2],\n",
    "                                                color_mode='rgb',\n",
    "                                               batch_size=batch_size,\n",
    "                                               class_mode='categorical')"
   ]
  },
  {
   "cell_type": "code",
   "execution_count": 62,
   "metadata": {},
   "outputs": [
    {
     "name": "stdout",
     "output_type": "stream",
     "text": [
      "Found 2000 images belonging to 4 classes.\n"
     ]
    }
   ],
   "source": [
    "test_image_gen = image_gen.flow_from_directory(test_path,\n",
    "                                               target_size=image_shape[:2],\n",
    "                                               color_mode='rgb',\n",
    "                                               batch_size=batch_size,\n",
    "                                               class_mode='categorical',shuffle=False)"
   ]
  },
  {
   "cell_type": "code",
   "execution_count": 63,
   "metadata": {},
   "outputs": [
    {
     "data": {
      "text/plain": [
       "{'climb': 0, 'crawl': 1, 'normal': 2, 'squat': 3}"
      ]
     },
     "execution_count": 63,
     "metadata": {},
     "output_type": "execute_result"
    }
   ],
   "source": [
    "train_image_gen.class_indices"
   ]
  },
  {
   "cell_type": "code",
   "execution_count": 97,
   "metadata": {},
   "outputs": [],
   "source": [
    "def lenet(input_shape, n_classes):\n",
    "    input = Input(input_shape)\n",
    "\n",
    "    x = Conv2D(96, 5, strides=4, padding='same', activation='relu')(input)\n",
    "    x = AvgPool2D(2, strides=2)(x)\n",
    "\n",
    "    x = Conv2D(256, 5, padding='same', activation='relu')(x)\n",
    "    x = AvgPool2D(2, strides=2)(x)\n",
    "\n",
    "    x = Flatten()(x)\n",
    "    x = Dense(120, activation='relu')(x)\n",
    "    x = Dense(84, activation='relu')(x)\n",
    "\n",
    "    output = Dense(n_classes, activation='softmax')(x)\n",
    "\n",
    "    model = Model(input, output)\n",
    "    return model"
   ]
  },
  {
   "cell_type": "code",
   "execution_count": 98,
   "metadata": {},
   "outputs": [
    {
     "name": "stdout",
     "output_type": "stream",
     "text": [
      "Model: \"model_1\"\n",
      "_________________________________________________________________\n",
      "Layer (type)                 Output Shape              Param #   \n",
      "=================================================================\n",
      "input_1 (InputLayer)         (None, 225, 85, 3)        0         \n",
      "_________________________________________________________________\n",
      "conv2d_1 (Conv2D)            (None, 57, 22, 96)        7296      \n",
      "_________________________________________________________________\n",
      "average_pooling2d_1 (Average (None, 28, 11, 96)        0         \n",
      "_________________________________________________________________\n",
      "conv2d_2 (Conv2D)            (None, 28, 11, 256)       614656    \n",
      "_________________________________________________________________\n",
      "average_pooling2d_2 (Average (None, 14, 5, 256)        0         \n",
      "_________________________________________________________________\n",
      "flatten_1 (Flatten)          (None, 17920)             0         \n",
      "_________________________________________________________________\n",
      "dense_1 (Dense)              (None, 120)               2150520   \n",
      "_________________________________________________________________\n",
      "dense_2 (Dense)              (None, 84)                10164     \n",
      "_________________________________________________________________\n",
      "dense_3 (Dense)              (None, 4)                 340       \n",
      "=================================================================\n",
      "Total params: 2,782,976\n",
      "Trainable params: 2,782,976\n",
      "Non-trainable params: 0\n",
      "_________________________________________________________________\n"
     ]
    }
   ],
   "source": [
    "input_shape = 225, 85, 3\n",
    "n_classes = 4\n",
    "\n",
    "K.clear_session()\n",
    "model = lenet(input_shape, n_classes)\n",
    "model.summary()"
   ]
  },
  {
   "cell_type": "code",
   "execution_count": 99,
   "metadata": {},
   "outputs": [],
   "source": [
    "model.compile(loss='categorical_crossentropy',\n",
    "              optimizer='adam',\n",
    "              metrics=['accuracy'])"
   ]
  },
  {
   "cell_type": "code",
   "execution_count": 100,
   "metadata": {},
   "outputs": [],
   "source": [
    "from tensorflow.keras.callbacks import EarlyStopping"
   ]
  },
  {
   "cell_type": "code",
   "execution_count": 101,
   "metadata": {},
   "outputs": [],
   "source": [
    "early_stop = EarlyStopping(monitor='val_loss',patience=2)"
   ]
  },
  {
   "cell_type": "code",
   "execution_count": 102,
   "metadata": {},
   "outputs": [
    {
     "name": "stdout",
     "output_type": "stream",
     "text": [
      "Epoch 1/20\n",
      "325/325 [==============================] - 106s 327ms/step - loss: 0.1485 - accuracy: 0.9500 - val_loss: 0.1077 - val_accuracy: 0.9755\n",
      "Epoch 2/20\n",
      "325/325 [==============================] - 107s 331ms/step - loss: 0.0420 - accuracy: 0.9858 - val_loss: 0.0026 - val_accuracy: 0.9660\n",
      "Epoch 3/20\n",
      "325/325 [==============================] - 106s 325ms/step - loss: 0.0267 - accuracy: 0.9910 - val_loss: 0.0012 - val_accuracy: 0.9810\n",
      "Epoch 4/20\n",
      "325/325 [==============================] - 106s 326ms/step - loss: 0.0148 - accuracy: 0.9952 - val_loss: 0.0026 - val_accuracy: 0.9735\n",
      "Epoch 5/20\n",
      "325/325 [==============================] - 106s 327ms/step - loss: 0.0095 - accuracy: 0.9969 - val_loss: 1.3046e-04 - val_accuracy: 0.9790\n",
      "Epoch 6/20\n",
      "325/325 [==============================] - 106s 327ms/step - loss: 0.0191 - accuracy: 0.9931 - val_loss: 0.0030 - val_accuracy: 0.9790\n",
      "Epoch 7/20\n",
      "325/325 [==============================] - 106s 326ms/step - loss: 0.0110 - accuracy: 0.9969 - val_loss: 0.0014 - val_accuracy: 0.9835\n"
     ]
    }
   ],
   "source": [
    "results = model.fit_generator(train_image_gen,epochs=20,\n",
    "                              validation_data=test_image_gen,\n",
    "                             callbacks=[early_stop])"
   ]
  },
  {
   "cell_type": "code",
   "execution_count": 103,
   "metadata": {},
   "outputs": [],
   "source": [
    "from tensorflow.keras.models import load_model\n",
    "model.save('LeNET_four_poses_1.h5')"
   ]
  },
  {
   "cell_type": "code",
   "execution_count": 104,
   "metadata": {},
   "outputs": [],
   "source": [
    "losses = pd.DataFrame(model.history.history)"
   ]
  },
  {
   "cell_type": "code",
   "execution_count": 105,
   "metadata": {},
   "outputs": [
    {
     "data": {
      "text/plain": [
       "<matplotlib.axes._subplots.AxesSubplot at 0x1eccec01808>"
      ]
     },
     "execution_count": 105,
     "metadata": {},
     "output_type": "execute_result"
    },
    {
     "data": {
      "image/png": "[encoded data removed]",
      "text/plain": [
       "<Figure size 432x288 with 1 Axes>"
      ]
     },
     "metadata": {
      "needs_background": "light"
     },
     "output_type": "display_data"
    }
   ],
   "source": [
    "losses[['loss','val_loss']].plot()"
   ]
  },
  {
   "cell_type": "code",
   "execution_count": 107,
   "metadata": {},
   "outputs": [
    {
     "data": {
      "text/plain": [
       "<matplotlib.axes._subplots.AxesSubplot at 0x1ecced44fc8>"
      ]
     },
     "execution_count": 107,
     "metadata": {},
     "output_type": "execute_result"
    },
    {
     "data": {
      "image/png": "[encoded data removed]",
      "text/plain": [
       "<Figure size 432x288 with 1 Axes>"
      ]
     },
     "metadata": {
      "needs_background": "light"
     },
     "output_type": "display_data"
    }
   ],
   "source": [
    "losses[['accuracy','val_accuracy']].plot()"
   ]
  },
  {
   "cell_type": "code",
   "execution_count": 108,
   "metadata": {},
   "outputs": [
    {
     "data": {
      "text/plain": [
       "['loss', 'accuracy']"
      ]
     },
     "execution_count": 108,
     "metadata": {},
     "output_type": "execute_result"
    }
   ],
   "source": [
    "model.metrics_names"
   ]
  },
  {
   "cell_type": "code",
   "execution_count": 109,
   "metadata": {},
   "outputs": [
    {
     "data": {
      "text/plain": [
       "[0.0014040506212040782, 0.9835000038146973]"
      ]
     },
     "execution_count": 109,
     "metadata": {},
     "output_type": "execute_result"
    }
   ],
   "source": [
    "model.evaluate_generator(test_image_gen)"
   ]
  },
  {
   "cell_type": "code",
   "execution_count": 110,
   "metadata": {},
   "outputs": [],
   "source": [
    "from tensorflow.keras.preprocessing import image"
   ]
  },
  {
   "cell_type": "code",
   "execution_count": 111,
   "metadata": {},
   "outputs": [],
   "source": [
    "predictions = model.predict(test_image_gen)"
   ]
  },
  {
   "cell_type": "code",
   "execution_count": 112,
   "metadata": {},
   "outputs": [
    {
     "data": {
      "text/plain": [
       "array([[9.9964726e-01, 4.1748066e-05, 2.3343055e-04, 7.7641431e-05],\n",
       "       [9.9990857e-01, 1.0699471e-05, 6.6200053e-05, 1.4556540e-05],\n",
       "       [9.9991441e-01, 5.3981777e-05, 1.5800555e-05, 1.5789168e-05],\n",
       "       ...,\n",
       "       [7.5092415e-05, 2.2413506e-05, 1.0319937e-03, 9.9887043e-01],\n",
       "       [2.8085857e-04, 6.2002153e-05, 9.8308409e-04, 9.9867404e-01],\n",
       "       [3.0963987e-04, 2.1634280e-05, 4.3858917e-04, 9.9923015e-01]],\n",
       "      dtype=float32)"
      ]
     },
     "execution_count": 112,
     "metadata": {},
     "output_type": "execute_result"
    }
   ],
   "source": [
    "predictions"
   ]
  },
  {
   "cell_type": "code",
   "execution_count": 113,
   "metadata": {},
   "outputs": [],
   "source": [
    "def prediction_classes(p):\n",
    "    max_value  = 0\n",
    "    maxi = 0\n",
    "    for i in range(4):\n",
    "        temp = p[i]\n",
    "        if temp>max_value:\n",
    "            max_value = temp\n",
    "            maxi = i\n",
    "    return maxi"
   ]
  },
  {
   "cell_type": "code",
   "execution_count": 114,
   "metadata": {},
   "outputs": [],
   "source": [
    "predictions = map(prediction_classes, predictions)\n",
    "\n",
    "pred = list(predictions)"
   ]
  },
  {
   "cell_type": "code",
   "execution_count": 115,
   "metadata": {},
   "outputs": [],
   "source": [
    "pred = np.array(pred)"
   ]
  },
  {
   "cell_type": "code",
   "execution_count": 116,
   "metadata": {},
   "outputs": [
    {
     "data": {
      "text/plain": [
       "array([0, 0, 0, ..., 3, 3, 3])"
      ]
     },
     "execution_count": 116,
     "metadata": {},
     "output_type": "execute_result"
    }
   ],
   "source": [
    "pred"
   ]
  },
  {
   "cell_type": "code",
   "execution_count": 117,
   "metadata": {},
   "outputs": [
    {
     "data": {
      "text/plain": [
       "array([0, 0, 0, ..., 3, 3, 3])"
      ]
     },
     "execution_count": 117,
     "metadata": {},
     "output_type": "execute_result"
    }
   ],
   "source": [
    "test_image_gen.classes"
   ]
  },
  {
   "cell_type": "code",
   "execution_count": 118,
   "metadata": {},
   "outputs": [],
   "source": [
    "from sklearn.metrics import classification_report,confusion_matrix"
   ]
  },
  {
   "cell_type": "code",
   "execution_count": 119,
   "metadata": {},
   "outputs": [
    {
     "name": "stdout",
     "output_type": "stream",
     "text": [
      "              precision    recall  f1-score   support\n",
      "\n",
      "           0       0.99      0.99      0.99       500\n",
      "           1       1.00      0.98      0.99       500\n",
      "           2       0.96      0.99      0.97       500\n",
      "           3       0.99      0.97      0.98       500\n",
      "\n",
      "    accuracy                           0.98      2000\n",
      "   macro avg       0.98      0.98      0.98      2000\n",
      "weighted avg       0.98      0.98      0.98      2000\n",
      "\n"
     ]
    }
   ],
   "source": [
    "print(classification_report(test_image_gen.classes,pred))"
   ]
  },
  {
   "cell_type": "code",
   "execution_count": 120,
   "metadata": {},
   "outputs": [
    {
     "data": {
      "text/plain": [
       "array([[495,   1,   4,   0],\n",
       "       [  2, 490,   5,   3],\n",
       "       [  1,   0, 496,   3],\n",
       "       [  0,   1,  13, 486]], dtype=int64)"
      ]
     },
     "execution_count": 120,
     "metadata": {},
     "output_type": "execute_result"
    }
   ],
   "source": [
    "confusion_matrix(test_image_gen.classes,pred)"
   ]
  },
  {
   "cell_type": "code",
   "execution_count": 121,
   "metadata": {},
   "outputs": [
    {
     "data": {
      "text/plain": [
       "{'climb': 0, 'crawl': 1, 'normal': 2, 'squat': 3}"
      ]
     },
     "execution_count": 121,
     "metadata": {},
     "output_type": "execute_result"
    }
   ],
   "source": [
    "test_image_gen.class_indices"
   ]
  },
  {
   "cell_type": "code",
   "execution_count": null,
   "metadata": {},
   "outputs": [],
   "source": []
  },
  {
   "cell_type": "code",
   "execution_count": null,
   "metadata": {},
   "outputs": [],
   "source": []
  },
  {
   "cell_type": "code",
   "execution_count": null,
   "metadata": {},
   "outputs": [],
   "source": []
  },
  {
   "cell_type": "code",
   "execution_count": 122,
   "metadata": {},
   "outputs": [],
   "source": [
    "def lenet(input_shape, n_classes):\n",
    "    input = Input(input_shape)\n",
    "\n",
    "    x = Conv2D(96, 5, strides=4, padding='same', activation='relu')(input)\n",
    "    x = AvgPool2D(2, strides=2)(x)\n",
    "\n",
    "    x = Conv2D(256, 5, padding='same', activation='relu')(x)\n",
    "    x = AvgPool2D(2, strides=2)(x)\n",
    "\n",
    "    x = Flatten()(x)\n",
    "    x = Dense(120, activation='relu')(x)\n",
    "\n",
    "    output = Dense(n_classes, activation='softmax')(x)\n",
    "\n",
    "    model = Model(input, output)\n",
    "    return model"
   ]
  },
  {
   "cell_type": "code",
   "execution_count": 123,
   "metadata": {},
   "outputs": [
    {
     "name": "stdout",
     "output_type": "stream",
     "text": [
      "Model: \"model_1\"\n",
      "_________________________________________________________________\n",
      "Layer (type)                 Output Shape              Param #   \n",
      "=================================================================\n",
      "input_1 (InputLayer)         (None, 225, 85, 3)        0         \n",
      "_________________________________________________________________\n",
      "conv2d_1 (Conv2D)            (None, 57, 22, 96)        7296      \n",
      "_________________________________________________________________\n",
      "average_pooling2d_1 (Average (None, 28, 11, 96)        0         \n",
      "_________________________________________________________________\n",
      "conv2d_2 (Conv2D)            (None, 28, 11, 256)       614656    \n",
      "_________________________________________________________________\n",
      "average_pooling2d_2 (Average (None, 14, 5, 256)        0         \n",
      "_________________________________________________________________\n",
      "flatten_1 (Flatten)          (None, 17920)             0         \n",
      "_________________________________________________________________\n",
      "dense_1 (Dense)              (None, 120)               2150520   \n",
      "_________________________________________________________________\n",
      "dense_2 (Dense)              (None, 4)                 484       \n",
      "=================================================================\n",
      "Total params: 2,772,956\n",
      "Trainable params: 2,772,956\n",
      "Non-trainable params: 0\n",
      "_________________________________________________________________\n"
     ]
    }
   ],
   "source": [
    "input_shape = 225, 85, 3\n",
    "n_classes = 4\n",
    "\n",
    "K.clear_session()\n",
    "model = lenet(input_shape, n_classes)\n",
    "model.summary()"
   ]
  },
  {
   "cell_type": "code",
   "execution_count": 124,
   "metadata": {},
   "outputs": [],
   "source": [
    "model.compile(loss='categorical_crossentropy',\n",
    "              optimizer='adam',\n",
    "              metrics=['accuracy'])"
   ]
  },
  {
   "cell_type": "code",
   "execution_count": 125,
   "metadata": {},
   "outputs": [],
   "source": [
    "from tensorflow.keras.callbacks import EarlyStopping"
   ]
  },
  {
   "cell_type": "code",
   "execution_count": 126,
   "metadata": {},
   "outputs": [],
   "source": [
    "early_stop = EarlyStopping(monitor='val_loss',patience=2)"
   ]
  },
  {
   "cell_type": "code",
   "execution_count": 127,
   "metadata": {},
   "outputs": [
    {
     "name": "stdout",
     "output_type": "stream",
     "text": [
      "Epoch 1/20\n",
      "325/325 [==============================] - 105s 322ms/step - loss: 0.1385 - accuracy: 0.9546 - val_loss: 0.0280 - val_accuracy: 0.9820\n",
      "Epoch 2/20\n",
      "325/325 [==============================] - 105s 322ms/step - loss: 0.0445 - accuracy: 0.9860 - val_loss: 0.0079 - val_accuracy: 0.9735\n",
      "Epoch 3/20\n",
      "325/325 [==============================] - 105s 323ms/step - loss: 0.0208 - accuracy: 0.9933 - val_loss: 9.5771e-04 - val_accuracy: 0.9805\n",
      "Epoch 4/20\n",
      "325/325 [==============================] - 104s 321ms/step - loss: 0.0128 - accuracy: 0.9962 - val_loss: 0.0013 - val_accuracy: 0.9815\n",
      "Epoch 5/20\n",
      "325/325 [==============================] - 105s 324ms/step - loss: 0.0084 - accuracy: 0.9973 - val_loss: 3.9132e-04 - val_accuracy: 0.9845\n",
      "Epoch 6/20\n",
      "325/325 [==============================] - 105s 322ms/step - loss: 7.0101e-04 - accuracy: 1.0000 - val_loss: 2.0936e-04 - val_accuracy: 0.9875\n",
      "Epoch 7/20\n",
      "325/325 [==============================] - 105s 323ms/step - loss: 6.4721e-05 - accuracy: 1.0000 - val_loss: 7.1993e-05 - val_accuracy: 0.9880\n",
      "Epoch 8/20\n",
      "325/325 [==============================] - 105s 324ms/step - loss: 2.0214e-05 - accuracy: 1.0000 - val_loss: 5.5900e-05 - val_accuracy: 0.9885\n",
      "Epoch 9/20\n",
      "325/325 [==============================] - 104s 321ms/step - loss: 1.3445e-05 - accuracy: 1.0000 - val_loss: 4.6996e-05 - val_accuracy: 0.9885\n",
      "Epoch 10/20\n",
      "325/325 [==============================] - 106s 325ms/step - loss: 9.7183e-06 - accuracy: 1.0000 - val_loss: 3.8002e-05 - val_accuracy: 0.9885\n",
      "Epoch 11/20\n",
      "325/325 [==============================] - 104s 321ms/step - loss: 7.2877e-06 - accuracy: 1.0000 - val_loss: 3.2625e-05 - val_accuracy: 0.9885\n",
      "Epoch 12/20\n",
      "325/325 [==============================] - 105s 323ms/step - loss: 5.6053e-06 - accuracy: 1.0000 - val_loss: 2.8135e-05 - val_accuracy: 0.9885\n",
      "Epoch 13/20\n",
      "325/325 [==============================] - 106s 326ms/step - loss: 4.3959e-06 - accuracy: 1.0000 - val_loss: 2.3942e-05 - val_accuracy: 0.9885\n",
      "Epoch 14/20\n",
      "325/325 [==============================] - 105s 324ms/step - loss: 3.4662e-06 - accuracy: 1.0000 - val_loss: 1.9547e-05 - val_accuracy: 0.9885\n",
      "Epoch 15/20\n",
      "325/325 [==============================] - 105s 324ms/step - loss: 2.7700e-06 - accuracy: 1.0000 - val_loss: 1.8408e-05 - val_accuracy: 0.9885\n",
      "Epoch 16/20\n",
      "325/325 [==============================] - 104s 319ms/step - loss: 2.2277e-06 - accuracy: 1.0000 - val_loss: 1.4736e-05 - val_accuracy: 0.9890\n",
      "Epoch 17/20\n",
      "325/325 [==============================] - 113s 348ms/step - loss: 1.7956e-06 - accuracy: 1.0000 - val_loss: 1.4006e-05 - val_accuracy: 0.9890\n",
      "Epoch 18/20\n",
      "325/325 [==============================] - 110s 339ms/step - loss: 1.4647e-06 - accuracy: 1.0000 - val_loss: 1.2568e-05 - val_accuracy: 0.9890\n",
      "Epoch 19/20\n",
      "325/325 [==============================] - 119s 365ms/step - loss: 1.1923e-06 - accuracy: 1.0000 - val_loss: 1.0363e-05 - val_accuracy: 0.9890\n",
      "Epoch 20/20\n",
      "325/325 [==============================] - 113s 348ms/step - loss: 9.7406e-07 - accuracy: 1.0000 - val_loss: 9.3051e-06 - val_accuracy: 0.9890\n"
     ]
    }
   ],
   "source": [
    "results = model.fit_generator(train_image_gen,epochs=20,\n",
    "                              validation_data=test_image_gen,\n",
    "                             callbacks=[early_stop])"
   ]
  },
  {
   "cell_type": "code",
   "execution_count": 128,
   "metadata": {},
   "outputs": [],
   "source": [
    "from tensorflow.keras.models import load_model\n",
    "model.save('LeNET_four_poses_2.h5')"
   ]
  },
  {
   "cell_type": "code",
   "execution_count": 129,
   "metadata": {},
   "outputs": [],
   "source": [
    "losses = pd.DataFrame(model.history.history)"
   ]
  },
  {
   "cell_type": "code",
   "execution_count": 130,
   "metadata": {},
   "outputs": [
    {
     "data": {
      "text/plain": [
       "<matplotlib.axes._subplots.AxesSubplot at 0x1ecc361bdc8>"
      ]
     },
     "execution_count": 130,
     "metadata": {},
     "output_type": "execute_result"
    },
    {
     "data": {
      "image/png": "[encoded data removed]",
      "text/plain": [
       "<Figure size 432x288 with 1 Axes>"
      ]
     },
     "metadata": {
      "needs_background": "light"
     },
     "output_type": "display_data"
    }
   ],
   "source": [
    "losses[['loss','val_loss']].plot()"
   ]
  },
  {
   "cell_type": "code",
   "execution_count": 131,
   "metadata": {},
   "outputs": [
    {
     "data": {
      "text/plain": [
       "<matplotlib.axes._subplots.AxesSubplot at 0x1eccedd9288>"
      ]
     },
     "execution_count": 131,
     "metadata": {},
     "output_type": "execute_result"
    },
    {
     "data": {
      "image/png": "[encoded data removed]",
      "text/plain": [
       "<Figure size 432x288 with 1 Axes>"
      ]
     },
     "metadata": {
      "needs_background": "light"
     },
     "output_type": "display_data"
    }
   ],
   "source": [
    "losses[['accuracy','val_accuracy']].plot()"
   ]
  },
  {
   "cell_type": "code",
   "execution_count": 132,
   "metadata": {},
   "outputs": [
    {
     "data": {
      "text/plain": [
       "[9.305090316047426e-06, 0.9890000224113464]"
      ]
     },
     "execution_count": 132,
     "metadata": {},
     "output_type": "execute_result"
    }
   ],
   "source": [
    "model.evaluate_generator(test_image_gen)"
   ]
  },
  {
   "cell_type": "code",
   "execution_count": 133,
   "metadata": {},
   "outputs": [],
   "source": [
    "predictions = model.predict(test_image_gen)"
   ]
  },
  {
   "cell_type": "code",
   "execution_count": 134,
   "metadata": {},
   "outputs": [
    {
     "data": {
      "text/plain": [
       "array([[1.0000000e+00, 2.5989794e-10, 1.1779577e-11, 1.4052086e-10],\n",
       "       [1.0000000e+00, 3.0132230e-11, 2.9416357e-12, 5.2974543e-12],\n",
       "       [1.0000000e+00, 2.1664410e-09, 9.7785387e-14, 4.5113405e-10],\n",
       "       ...,\n",
       "       [2.0109191e-10, 1.0653375e-11, 1.1442377e-08, 1.0000000e+00],\n",
       "       [1.2579463e-08, 4.4943500e-11, 1.9335447e-08, 1.0000000e+00],\n",
       "       [2.2384026e-09, 1.2007092e-12, 2.0866624e-10, 1.0000000e+00]],\n",
       "      dtype=float32)"
      ]
     },
     "execution_count": 134,
     "metadata": {},
     "output_type": "execute_result"
    }
   ],
   "source": [
    "predictions"
   ]
  },
  {
   "cell_type": "code",
   "execution_count": 135,
   "metadata": {},
   "outputs": [],
   "source": [
    "def prediction_classes(p):\n",
    "    max_value  = 0\n",
    "    maxi = 0\n",
    "    for i in range(4):\n",
    "        temp = p[i]\n",
    "        if temp>max_value:\n",
    "            max_value = temp\n",
    "            maxi = i\n",
    "    return maxi"
   ]
  },
  {
   "cell_type": "code",
   "execution_count": 136,
   "metadata": {},
   "outputs": [],
   "source": [
    "predictions = map(prediction_classes, predictions)\n",
    "\n",
    "pred = list(predictions)"
   ]
  },
  {
   "cell_type": "code",
   "execution_count": 137,
   "metadata": {},
   "outputs": [],
   "source": [
    "pred = np.array(pred)"
   ]
  },
  {
   "cell_type": "code",
   "execution_count": 138,
   "metadata": {},
   "outputs": [
    {
     "data": {
      "text/plain": [
       "array([0, 0, 0, ..., 3, 3, 3])"
      ]
     },
     "execution_count": 138,
     "metadata": {},
     "output_type": "execute_result"
    }
   ],
   "source": [
    "pred"
   ]
  },
  {
   "cell_type": "code",
   "execution_count": 139,
   "metadata": {},
   "outputs": [
    {
     "data": {
      "text/plain": [
       "array([0, 0, 0, ..., 3, 3, 3])"
      ]
     },
     "execution_count": 139,
     "metadata": {},
     "output_type": "execute_result"
    }
   ],
   "source": [
    "test_image_gen.classes"
   ]
  },
  {
   "cell_type": "code",
   "execution_count": 140,
   "metadata": {},
   "outputs": [],
   "source": [
    "from sklearn.metrics import classification_report,confusion_matrix"
   ]
  },
  {
   "cell_type": "code",
   "execution_count": 141,
   "metadata": {},
   "outputs": [
    {
     "name": "stdout",
     "output_type": "stream",
     "text": [
      "              precision    recall  f1-score   support\n",
      "\n",
      "           0       0.99      1.00      1.00       500\n",
      "           1       1.00      0.99      0.99       500\n",
      "           2       0.98      0.98      0.98       500\n",
      "           3       0.98      0.99      0.99       500\n",
      "\n",
      "    accuracy                           0.99      2000\n",
      "   macro avg       0.99      0.99      0.99      2000\n",
      "weighted avg       0.99      0.99      0.99      2000\n",
      "\n"
     ]
    }
   ],
   "source": [
    "print(classification_report(test_image_gen.classes,pred))"
   ]
  },
  {
   "cell_type": "code",
   "execution_count": 142,
   "metadata": {},
   "outputs": [
    {
     "data": {
      "text/plain": [
       "array([[498,   1,   1,   0],\n",
       "       [  2, 494,   2,   2],\n",
       "       [  1,   0, 492,   7],\n",
       "       [  0,   1,   5, 494]], dtype=int64)"
      ]
     },
     "execution_count": 142,
     "metadata": {},
     "output_type": "execute_result"
    }
   ],
   "source": [
    "confusion_matrix(test_image_gen.classes,pred)"
   ]
  },
  {
   "cell_type": "code",
   "execution_count": 143,
   "metadata": {},
   "outputs": [
    {
     "data": {
      "text/plain": [
       "{'climb': 0, 'crawl': 1, 'normal': 2, 'squat': 3}"
      ]
     },
     "execution_count": 143,
     "metadata": {},
     "output_type": "execute_result"
    }
   ],
   "source": [
    "test_image_gen.class_indices"
   ]
  },
  {
   "cell_type": "code",
   "execution_count": null,
   "metadata": {},
   "outputs": [],
   "source": []
  },
  {
   "cell_type": "code",
   "execution_count": null,
   "metadata": {},
   "outputs": [],
   "source": []
  },
  {
   "cell_type": "code",
   "execution_count": null,
   "metadata": {},
   "outputs": [],
   "source": []
  },
  {
   "cell_type": "code",
   "execution_count": null,
   "metadata": {},
   "outputs": [],
   "source": []
  },
  {
   "cell_type": "code",
   "execution_count": 30,
   "metadata": {},
   "outputs": [],
   "source": []
  },
  {
   "cell_type": "code",
   "execution_count": null,
   "metadata": {},
   "outputs": [],
   "source": []
  },
  {
   "cell_type": "code",
   "execution_count": null,
   "metadata": {},
   "outputs": [],
   "source": []
  },
  {
   "cell_type": "code",
   "execution_count": null,
   "metadata": {},
   "outputs": [],
   "source": []
  },
  {
   "cell_type": "code",
   "execution_count": null,
   "metadata": {},
   "outputs": [],
   "source": []
  },
  {
   "cell_type": "code",
   "execution_count": null,
   "metadata": {},
   "outputs": [],
   "source": []
  },
  {
   "cell_type": "code",
   "execution_count": null,
   "metadata": {},
   "outputs": [],
   "source": []
  }
 ],
 "metadata": {
  "kernelspec": {
   "display_name": "Python 3 (ipykernel)",
   "language": "python",
   "name": "python3"
  },
  "language_info": {
   "codemirror_mode": {
    "name": "ipython",
    "version": 3
   },
   "file_extension": ".py",
   "mimetype": "text/x-python",
   "name": "python",
   "nbconvert_exporter": "python",
   "pygments_lexer": "ipython3",
   "version": "3.7.4"
  }
 },
 "nbformat": 4,
 "nbformat_minor": 4
}
